{
 "cells": [
  {
   "cell_type": "markdown",
   "metadata": {},
   "source": [
    "# Quantum Simulator: Vaccine Site Selector\n",
    "\n",
    "\n",
    "Covid-19 vaccines must be readily available in areas most affected by the pandemic. While setting up vaccination centers it is very important to select locations which can fulfill the demand from the affected areas. Covid Vaccination center locator selects optimal locations for the centers from a given set of locations satisfying demand while minimizing cost. The solution works using Quantum Optimization Algorithms to help design the network of centers from a given locations. As compared to classical methods of optimization, it uses Simulated Quantum Annealing to lower the distribution/operations cost and compute time.\n",
    "\n",
    "\n",
    "### Prerequisite\n",
    "\n",
    "The kernel comes pre-installed with the required packages. Else ensure to have the following Python Packages in your environment at minimum:\n",
    "\n",
    "    - numpy\n",
    "    - pandas\n",
    "### Usage instructions\n",
    "Usage Methodology for the algorithm:\n",
    "1. The input has to be a .csv file with the content in columns titled 'location', 'point', 'opening_costs', 'equip_costs'\n",
    "1. The file should follow 'utf-8' encoding.\n",
    "1. The input can have a maximum of 200 demand points and 200 locations.\n",
    "1. 'opening_costs' column should contain the opening costs, for each location, with 1st row having cost for 0th location, 2nd row having cost for 1st location and so on. \n",
    "1. 'equip_costs' column should contain cost of readying a center for vaccination, which is assumed to be constant for all lcoations.\n",
    "\n",
    "General instructions for consuming the service on Sagemaker:\n",
    "1. Access to AWS SageMaker and the model package\n",
    "1. An S3 bucket to specify input/output\n",
    "1. Role for AWS SageMaker to access input/output from S3\n",
    "\n",
    "\n",
    " ### Contents\n",
    "\n",
    "1. [Importing libraries for runtime](#Importing-libraries-for-runtime)\n",
    "1. [Model](#Model)\n",
    "1. [Batch Transform](#Batch-Transform)\n",
    "1. [Output](#Output)\n",
    "1. [Endpoint](#Endpoint)"
   ]
  },
  {
   "cell_type": "markdown",
   "metadata": {},
   "source": [
    "## Importing libraries for runtime"
   ]
  },
  {
   "cell_type": "code",
   "execution_count": 1,
   "metadata": {},
   "outputs": [],
   "source": [
    "import pandas as pd\n",
    "import boto3\n",
    "import re"
   ]
  },
  {
   "cell_type": "markdown",
   "metadata": {},
   "source": [
    "### Input Format\n",
    "The input has to be a .csv file with the content in columns titled \n",
    "\n",
    "'location', 'point', 'opening_costs', 'equip_costs'.\n",
    "\n",
    "Rows must be arranged in the manner as explained by following example. \n",
    "\n",
    "| location | point | opening_cost | equip_cost |\n",
    "|----------|-------|--------------|------------|\n",
    "| 0        | 30    | 4807         | 457        |\n",
    "| 0        | 48    | 4396         |\n",
    "| 1        | 11    | 4029         |            |\n",
    "| 1        | 14    | 4671         |            |\n",
    "| 1        | 19    | 4323         |            |\n",
    "...\n",
    "| 2        | 13    |\n",
    "| 2        | 17    |\n",
    "...\n",
    "\n",
    "Center can be built at location 0 satifying demand points 30 and 48.\n",
    "\n",
    "Center can be built at location 1 satifying demand points 11, 14 and 19.\n",
    "\n",
    "Center can be built at location 2 satifying demand points 13 and 17.\n",
    "\n",
    "Columns 'opening_costs' and 'equip_costs' are unrelated to first 2 columns. \n",
    "\n",
    "'opening_costs' contains costs to build Centers at locations 0 to 49 (for a problem with 50 locations).\n",
    "\n",
    "'equip_costs' contains cost of readying a Center for vaccination.\n",
    "\n",
    "<b> Note: \n",
    "    Input file should be of the form .csv and with 'utf-8' encoding. Ensure Content-Type is 'text/csv'\n",
    "</b>"
   ]
  },
  {
   "cell_type": "code",
   "execution_count": 2,
   "metadata": {},
   "outputs": [
    {
     "data": {
      "text/html": [
       "<div>\n",
       "<style scoped>\n",
       "    .dataframe tbody tr th:only-of-type {\n",
       "        vertical-align: middle;\n",
       "    }\n",
       "\n",
       "    .dataframe tbody tr th {\n",
       "        vertical-align: top;\n",
       "    }\n",
       "\n",
       "    .dataframe thead th {\n",
       "        text-align: right;\n",
       "    }\n",
       "</style>\n",
       "<table border=\"1\" class=\"dataframe\">\n",
       "  <thead>\n",
       "    <tr style=\"text-align: right;\">\n",
       "      <th></th>\n",
       "      <th>location</th>\n",
       "      <th>point</th>\n",
       "      <th>opening_costs</th>\n",
       "      <th>equip_costs</th>\n",
       "    </tr>\n",
       "  </thead>\n",
       "  <tbody>\n",
       "    <tr>\n",
       "      <th>0</th>\n",
       "      <td>0</td>\n",
       "      <td>4</td>\n",
       "      <td>4644.0</td>\n",
       "      <td>337.0</td>\n",
       "    </tr>\n",
       "    <tr>\n",
       "      <th>1</th>\n",
       "      <td>0</td>\n",
       "      <td>10</td>\n",
       "      <td>4339.0</td>\n",
       "      <td>NaN</td>\n",
       "    </tr>\n",
       "    <tr>\n",
       "      <th>2</th>\n",
       "      <td>0</td>\n",
       "      <td>12</td>\n",
       "      <td>4483.0</td>\n",
       "      <td>NaN</td>\n",
       "    </tr>\n",
       "    <tr>\n",
       "      <th>3</th>\n",
       "      <td>0</td>\n",
       "      <td>13</td>\n",
       "      <td>4479.0</td>\n",
       "      <td>NaN</td>\n",
       "    </tr>\n",
       "    <tr>\n",
       "      <th>4</th>\n",
       "      <td>0</td>\n",
       "      <td>24</td>\n",
       "      <td>4127.0</td>\n",
       "      <td>NaN</td>\n",
       "    </tr>\n",
       "    <tr>\n",
       "      <th>5</th>\n",
       "      <td>0</td>\n",
       "      <td>27</td>\n",
       "      <td>4804.0</td>\n",
       "      <td>NaN</td>\n",
       "    </tr>\n",
       "    <tr>\n",
       "      <th>6</th>\n",
       "      <td>0</td>\n",
       "      <td>43</td>\n",
       "      <td>4521.0</td>\n",
       "      <td>NaN</td>\n",
       "    </tr>\n",
       "    <tr>\n",
       "      <th>7</th>\n",
       "      <td>1</td>\n",
       "      <td>0</td>\n",
       "      <td>4536.0</td>\n",
       "      <td>NaN</td>\n",
       "    </tr>\n",
       "    <tr>\n",
       "      <th>8</th>\n",
       "      <td>1</td>\n",
       "      <td>3</td>\n",
       "      <td>4610.0</td>\n",
       "      <td>NaN</td>\n",
       "    </tr>\n",
       "    <tr>\n",
       "      <th>9</th>\n",
       "      <td>1</td>\n",
       "      <td>11</td>\n",
       "      <td>4645.0</td>\n",
       "      <td>NaN</td>\n",
       "    </tr>\n",
       "  </tbody>\n",
       "</table>\n",
       "</div>"
      ],
      "text/plain": [
       "   location  point  opening_costs  equip_costs\n",
       "0         0      4         4644.0        337.0\n",
       "1         0     10         4339.0          NaN\n",
       "2         0     12         4483.0          NaN\n",
       "3         0     13         4479.0          NaN\n",
       "4         0     24         4127.0          NaN\n",
       "5         0     27         4804.0          NaN\n",
       "6         0     43         4521.0          NaN\n",
       "7         1      0         4536.0          NaN\n",
       "8         1      3         4610.0          NaN\n",
       "9         1     11         4645.0          NaN"
      ]
     },
     "execution_count": 2,
     "metadata": {},
     "output_type": "execute_result"
    }
   ],
   "source": [
    "input_df  = pd.read_csv(\"input.csv\")\n",
    "input_df.head(10)"
   ]
  },
  {
   "cell_type": "markdown",
   "metadata": {},
   "source": [
    "## Model\n",
    "\n",
    "The model package must be loaded for predicting the optimal locations for given set of demands.\n"
   ]
  },
  {
   "cell_type": "code",
   "execution_count": null,
   "metadata": {},
   "outputs": [],
   "source": [
    "model_package_arn = 'Put your ARN here'"
   ]
  },
  {
   "cell_type": "code",
   "execution_count": 3,
   "metadata": {},
   "outputs": [],
   "source": [
    "model_package_arn = 'arn:aws:sagemaker:us-east-2:786796469737:model-package/covid-location-v1-10-28'"
   ]
  },
  {
   "cell_type": "code",
   "execution_count": 4,
   "metadata": {},
   "outputs": [],
   "source": [
    "from sagemaker import ModelPackage\n",
    "import sagemaker as sage\n",
    "from sagemaker import get_execution_role\n",
    "\n",
    "role = get_execution_role()\n",
    "sagemaker_session = sage.Session()"
   ]
  },
  {
   "cell_type": "code",
   "execution_count": 5,
   "metadata": {},
   "outputs": [
    {
     "name": "stderr",
     "output_type": "stream",
     "text": [
      "Parameter image will be renamed to image_uri in SageMaker Python SDK v2.\n"
     ]
    }
   ],
   "source": [
    "model = ModelPackage(model_package_arn=model_package_arn,\n",
    "                    role = role,\n",
    "                    sagemaker_session = sagemaker_session)"
   ]
  },
  {
   "cell_type": "markdown",
   "metadata": {},
   "source": [
    "## Batch Transform"
   ]
  },
  {
   "cell_type": "code",
   "execution_count": 6,
   "metadata": {},
   "outputs": [
    {
     "name": "stdout",
     "output_type": "stream",
     "text": [
      "......................\u001b[32m2020-10-28T22:18:47.303:[sagemaker logs]: MaxConcurrentTransforms=1, MaxPayloadInMB=6, BatchStrategy=MULTI_RECORD\u001b[0m\n",
      "\u001b[34m * Serving Flask app \"serve\" (lazy loading)\n",
      " * Environment: production\n",
      "   WARNING: This is a development server. Do not use it in a production deployment.\n",
      "   Use a production WSGI server instead.\n",
      " * Debug mode: off\n",
      " * Running on http://0.0.0.0:8080/ (Press CTRL+C to quit)\u001b[0m\n",
      "\u001b[34m169.254.255.130 - - [28/Oct/2020 22:18:47] \"#033[37mGET /ping HTTP/1.1#033[0m\" 200 -\u001b[0m\n",
      "\u001b[35m * Serving Flask app \"serve\" (lazy loading)\n",
      " * Environment: production\n",
      "   WARNING: This is a development server. Do not use it in a production deployment.\n",
      "   Use a production WSGI server instead.\n",
      " * Debug mode: off\n",
      " * Running on http://0.0.0.0:8080/ (Press CTRL+C to quit)\u001b[0m\n",
      "\u001b[35m169.254.255.130 - - [28/Oct/2020 22:18:47] \"#033[37mGET /ping HTTP/1.1#033[0m\" 200 -\u001b[0m\n",
      "\u001b[34m169.254.255.130 - - [28/Oct/2020 22:18:47] \"#033[33mGET /execution-parameters HTTP/1.1#033[0m\" 404 -\u001b[0m\n",
      "\u001b[34mSTEP 1 executed....\u001b[0m\n",
      "\u001b[35m169.254.255.130 - - [28/Oct/2020 22:18:47] \"#033[33mGET /execution-parameters HTTP/1.1#033[0m\" 404 -\u001b[0m\n",
      "\u001b[35mSTEP 1 executed....\u001b[0m\n",
      "\u001b[34m{'x(0)': 1, 'x(1)': 0, 'x(2)': 1, 'x(3)': 0, 'x(4)': 1, 'x(5)': 1, 'x(6)': 0, 'x(7)': 1, 'x(8)': 1, 'x(9)': 0, 'x(10)': 1, 'x(11)': 0, 'x(12)': 1, 'x(13)': 0, 'x(14)': 0, 'x(15)': 1, 'x(16)': 0, 'x(17)': 0, 'x(18)': 0, 'x(19)': 1, 'x(20)': 0, 'x(21)': 0, 'x(22)': 0, 'x(23)': 1, 'x(24)': 0, 'x(25)': 0, 'x(26)': 1, 'x(27)': 1, 'x(28)': 1, 'x(29)': 0, 'x(30)': 1, 'x(31)': 1, 'x(32)': 1, 'x(33)': 0, 'x(34)': 0, 'x(35)': 0, 'x(36)': 1, 'x(37)': 1, 'x(38)': 1, 'x(39)': 0, 'x(40)': 0, 'x(41)': 1, 'x(42)': 0, 'x(43)': 0, 'x(44)': 1, 'x(45)': 1, 'x(46)': 0, 'x(47)': 0, 'x(48)': 0, 'x(49)': 0, 'y(0)': 1, 'y(1)': 0, 'y(2)': 1, 'y(3)': 0, 'y(4)': 1, 'y(5)': 1, 'y(6)': 0, 'y(7)': 1, 'y(8)': 1, 'y(9)': 0, 'y(10)': 1, 'y(11)': 0, 'y(12)': 1, 'y(13)': 0, 'y(14)': 0, 'y(15)': 1, 'y(16)': 0, 'y(17)': 0, 'y(18)': 0, 'y(19)': 1, 'y(20)': 0, 'y(21)': 0, 'y(22)': 0, 'y(23)': 1, 'y(24)': 0, 'y(25)': 0, 'y(26)': 1, 'y(27)': 1, 'y(28)': 1, 'y(29)': 0, 'y(30)': 1, 'y(31)': 1, 'y(32)': 1, 'y(33)': 0, 'y(34)': 0, 'y(35)': 0, 'y(36)': 1, 'y(37)': 1, 'y(38)': 1, 'y(39)': 0, 'y(40)': 0, 'y(41)': 1, 'y(42)': 0, 'y(43)': 0, 'y(44)': 1, 'y(45)': 1, 'y(46)': 0, 'y(47)': 0, 'y(48)': 0, 'y(49)': 0, '__a0': 0, '__a1': 1, '__a2': 0, '__a3': 1, '__a4': 1, '__a5': 0, '__a6': 0, '__a7': 0, '__a8': 1, '__a9': 0, '__a10': 0, '__a11': 0, '__a12': 1, '__a13': 0, '__a14': 1, '__a15': 0, '__a16': 1, '__a17': 1, '__a18': 0, '__a19': 0, '__a20': 0, '__a21': 0, '__a22': 1, '__a23': 0, '__a24': 0, '__a25': 1, '__a26': 0, '__a27': 1, '__a28': 1, '__a29': 0, '__a30': 0, '__a31': 1, '__a32': 0, '__a33': 0, '__a34': 1, '__a35': 0, '__a36': 1, '__a37': 0, '__a38': 1, '__a39': 1, '__a40': 0, '__a41': 0, '__a42': 0, '__a43': 0, '__a44': 1, '__a45': 1, '__a46': 1, '__a47': 0, '__a48': 0, '__a49': 0, '__a50': 0, '__a51': 1, '__a52': 0, '__a53': 0, '__a54': 1, '__a55': 1, '__a56': 0, '__a57': 0, '__a58': 1, '__a59': 1, '__a60': 0, '__a61': 1, '__a62': 1, '__a63': 0, '__a64': 0, '__a65': 1, '__a66': 1, '__a67': 0, '__a68': 0, '__a69': 1, '__a70': 0, '__a71': 0, '__a72': 0, '__a73': 0, '__a74': 1, '__a75': 1, '__a76': 0, '__a77': 1, '__a78': 1, '__a79': 0, '__a80': 0, '__a81': 0, '__a82': 0, '__a83': 1, '__a84': 0, '__a85': 1, '__a86': 0, '__a87': 1, '__a88': 0, '__a89': 1, '__a90': 1, '__a91': 0, '__a92': 0, '__a93': 0, '__a94': 1, '__a95': 0, '__a96': 0, '__a97': 1, '__a98': 0, '__a99': 1, '__a100': 1, '__a101': 0, '__a102': 0, '__a103': 0, '__a104': 0, '__a105': 1, '__a106': 0, '__a107': 1, '__a108': 1, '__a109': 0, '__a110': 0, '__a111': 0, '__a112': 0, '__a113': 1, '__a114': 0, '__a115': 0, '__a116': 1, '__a117': 0, '__a118': 0, '__a119': 0, '__a120': 0, '__a121': 1, '__a122': 0, '__a123': 1, '__a124': 0, '__a125': 1, '__a126': 0, '__a127': 0, '__a128': 0, '__a129': 1, '__a130': 1, '__a131': 1, '__a132': 0, '__a133': 0, '__a134': 0, '__a135': 1, '__a136': 0, '__a137': 1, '__a138': 0, '__a139': 0, '__a140': 0, '__a141': 1, '__a142': 0, '__a143': 1, '__a144': 0, '__a145': 0, '__a146': 1, '__a147': 0, '__a148': 1, '__a149': 0, '__a150': 1, '__a151': 1, '__a152': 0, '__a153': 0, '__a154': 0, '__a155': 1, '__a156': 0, '__a157': 1, '__a158': 1, '__a159': 0, '__a160': 0, '__a161': 1, '__a162': 1, '__a163': 0, '__a164': 0, '__a165': 0, '__a166': 1, '__a167': 1, '__a168': 0, '__a169': 1, '__a170': 0, '__a171': 0, '__a172': 1, '__a173': 0, '__a174': 0}\u001b[0m\n",
      "\u001b[34mModel value: 208350.0\u001b[0m\n",
      "\u001b[34mConstraints satisfied? True\u001b[0m\n",
      "\u001b[34m[(0, 0), (2, 0), (4, 0), (5, 0), (7, 0), (8, 0), (10, 0), (12, 0), (15, 0), (19, 0), (23, 0), (26, 0), (27, 0), (28, 0), (30, 0), (31, 0), (32, 0), (36, 0), (37, 0), (38, 0), (41, 0), (44, 0), (45, 0)] [0, 2, 4, 5, 7, 8, 10, 12, 15, 19, 23, 26, 27, 28, 30, 31, 32, 36, 37, 38, 41, 44, 45]\n",
      "\n",
      "\n",
      "\n",
      "\u001b[0m\n",
      "\u001b[34m--------------------------------------------\n",
      "\u001b[0m\n",
      "\u001b[34mBEST SOLUTION\n",
      " {'enabled_locations': [0, 2, 4, 5, 7, 8, 10, 12, 15, 19, 23, 26, 27, 28, 30, 31, 32, 36, 37, 38, 41, 44, 45], 'cost': 208350.0}\u001b[0m\n",
      "\u001b[34m169.254.255.130 - - [28/Oct/2020 22:18:54] \"#033[37mPOST /invocations HTTP/1.1#033[0m\" 200 -\u001b[0m\n",
      "\u001b[35m{'x(0)': 1, 'x(1)': 0, 'x(2)': 1, 'x(3)': 0, 'x(4)': 1, 'x(5)': 1, 'x(6)': 0, 'x(7)': 1, 'x(8)': 1, 'x(9)': 0, 'x(10)': 1, 'x(11)': 0, 'x(12)': 1, 'x(13)': 0, 'x(14)': 0, 'x(15)': 1, 'x(16)': 0, 'x(17)': 0, 'x(18)': 0, 'x(19)': 1, 'x(20)': 0, 'x(21)': 0, 'x(22)': 0, 'x(23)': 1, 'x(24)': 0, 'x(25)': 0, 'x(26)': 1, 'x(27)': 1, 'x(28)': 1, 'x(29)': 0, 'x(30)': 1, 'x(31)': 1, 'x(32)': 1, 'x(33)': 0, 'x(34)': 0, 'x(35)': 0, 'x(36)': 1, 'x(37)': 1, 'x(38)': 1, 'x(39)': 0, 'x(40)': 0, 'x(41)': 1, 'x(42)': 0, 'x(43)': 0, 'x(44)': 1, 'x(45)': 1, 'x(46)': 0, 'x(47)': 0, 'x(48)': 0, 'x(49)': 0, 'y(0)': 1, 'y(1)': 0, 'y(2)': 1, 'y(3)': 0, 'y(4)': 1, 'y(5)': 1, 'y(6)': 0, 'y(7)': 1, 'y(8)': 1, 'y(9)': 0, 'y(10)': 1, 'y(11)': 0, 'y(12)': 1, 'y(13)': 0, 'y(14)': 0, 'y(15)': 1, 'y(16)': 0, 'y(17)': 0, 'y(18)': 0, 'y(19)': 1, 'y(20)': 0, 'y(21)': 0, 'y(22)': 0, 'y(23)': 1, 'y(24)': 0, 'y(25)': 0, 'y(26)': 1, 'y(27)': 1, 'y(28)': 1, 'y(29)': 0, 'y(30)': 1, 'y(31)': 1, 'y(32)': 1, 'y(33)': 0, 'y(34)': 0, 'y(35)': 0, 'y(36)': 1, 'y(37)': 1, 'y(38)': 1, 'y(39)': 0, 'y(40)': 0, 'y(41)': 1, 'y(42)': 0, 'y(43)': 0, 'y(44)': 1, 'y(45)': 1, 'y(46)': 0, 'y(47)': 0, 'y(48)': 0, 'y(49)': 0, '__a0': 0, '__a1': 1, '__a2': 0, '__a3': 1, '__a4': 1, '__a5': 0, '__a6': 0, '__a7': 0, '__a8': 1, '__a9': 0, '__a10': 0, '__a11': 0, '__a12': 1, '__a13': 0, '__a14': 1, '__a15': 0, '__a16': 1, '__a17': 1, '__a18': 0, '__a19': 0, '__a20': 0, '__a21': 0, '__a22': 1, '__a23': 0, '__a24': 0, '__a25': 1, '__a26': 0, '__a27': 1, '__a28': 1, '__a29': 0, '__a30': 0, '__a31': 1, '__a32': 0, '__a33': 0, '__a34': 1, '__a35': 0, '__a36': 1, '__a37': 0, '__a38': 1, '__a39': 1, '__a40': 0, '__a41': 0, '__a42': 0, '__a43': 0, '__a44': 1, '__a45': 1, '__a46': 1, '__a47': 0, '__a48': 0, '__a49': 0, '__a50': 0, '__a51': 1, '__a52': 0, '__a53': 0, '__a54': 1, '__a55': 1, '__a56': 0, '__a57': 0, '__a58': 1, '__a59': 1, '__a60': 0, '__a61': 1, '__a62': 1, '__a63': 0, '__a64': 0, '__a65': 1, '__a66': 1, '__a67': 0, '__a68': 0, '__a69': 1, '__a70': 0, '__a71': 0, '__a72': 0, '__a73': 0, '__a74': 1, '__a75': 1, '__a76': 0, '__a77': 1, '__a78': 1, '__a79': 0, '__a80': 0, '__a81': 0, '__a82': 0, '__a83': 1, '__a84': 0, '__a85': 1, '__a86': 0, '__a87': 1, '__a88': 0, '__a89': 1, '__a90': 1, '__a91': 0, '__a92': 0, '__a93': 0, '__a94': 1, '__a95': 0, '__a96': 0, '__a97': 1, '__a98': 0, '__a99': 1, '__a100': 1, '__a101': 0, '__a102': 0, '__a103': 0, '__a104': 0, '__a105': 1, '__a106': 0, '__a107': 1, '__a108': 1, '__a109': 0, '__a110': 0, '__a111': 0, '__a112': 0, '__a113': 1, '__a114': 0, '__a115': 0, '__a116': 1, '__a117': 0, '__a118': 0, '__a119': 0, '__a120': 0, '__a121': 1, '__a122': 0, '__a123': 1, '__a124': 0, '__a125': 1, '__a126': 0, '__a127': 0, '__a128': 0, '__a129': 1, '__a130': 1, '__a131': 1, '__a132': 0, '__a133': 0, '__a134': 0, '__a135': 1, '__a136': 0, '__a137': 1, '__a138': 0, '__a139': 0, '__a140': 0, '__a141': 1, '__a142': 0, '__a143': 1, '__a144': 0, '__a145': 0, '__a146': 1, '__a147': 0, '__a148': 1, '__a149': 0, '__a150': 1, '__a151': 1, '__a152': 0, '__a153': 0, '__a154': 0, '__a155': 1, '__a156': 0, '__a157': 1, '__a158': 1, '__a159': 0, '__a160': 0, '__a161': 1, '__a162': 1, '__a163': 0, '__a164': 0, '__a165': 0, '__a166': 1, '__a167': 1, '__a168': 0, '__a169': 1, '__a170': 0, '__a171': 0, '__a172': 1, '__a173': 0, '__a174': 0}\u001b[0m\n",
      "\u001b[35mModel value: 208350.0\u001b[0m\n",
      "\u001b[35mConstraints satisfied? True\u001b[0m\n",
      "\u001b[35m[(0, 0), (2, 0), (4, 0), (5, 0), (7, 0), (8, 0), (10, 0), (12, 0), (15, 0), (19, 0), (23, 0), (26, 0), (27, 0), (28, 0), (30, 0), (31, 0), (32, 0), (36, 0), (37, 0), (38, 0), (41, 0), (44, 0), (45, 0)] [0, 2, 4, 5, 7, 8, 10, 12, 15, 19, 23, 26, 27, 28, 30, 31, 32, 36, 37, 38, 41, 44, 45]\n",
      "\n",
      "\n",
      "\n",
      "\u001b[0m\n",
      "\u001b[35m--------------------------------------------\n",
      "\u001b[0m\n",
      "\u001b[35mBEST SOLUTION\n",
      " {'enabled_locations': [0, 2, 4, 5, 7, 8, 10, 12, 15, 19, 23, 26, 27, 28, 30, 31, 32, 36, 37, 38, 41, 44, 45], 'cost': 208350.0}\u001b[0m\n",
      "\u001b[35m169.254.255.130 - - [28/Oct/2020 22:18:54] \"#033[37mPOST /invocations HTTP/1.1#033[0m\" 200 -\u001b[0m\n"
     ]
    },
    {
     "name": "stdout",
     "output_type": "stream",
     "text": [
      "\n",
      "Batch Transform complete\n"
     ]
    }
   ],
   "source": [
    "import json \n",
    "import uuid\n",
    "\n",
    "\n",
    "transformer = model.transformer(1, 'ml.m5.large')\n",
    "transformer.transform('s3://mphasis-marketplace/covid-location/input.csv', content_type='text/csv')\n",
    "transformer.wait()\n",
    "#transformer.output_path\n",
    "print(\"Batch Transform complete\")\n",
    "bucketFolder = transformer.output_path.rsplit('/')[3]"
   ]
  },
  {
   "cell_type": "code",
   "execution_count": 7,
   "metadata": {},
   "outputs": [
    {
     "name": "stdout",
     "output_type": "stream",
     "text": [
      "Output file loaded from bucket\n"
     ]
    }
   ],
   "source": [
    "#print(s3bucket,s3prefix)\n",
    "s3_conn = boto3.client(\"s3\")\n",
    "bucket_name=\"sagemaker-us-east-2-786796469737\"\n",
    "with open('FILE_NAME', 'wb') as f:\n",
    "    s3_conn.download_fileobj(bucket_name, bucketFolder+'/input.csv.out', f)\n",
    "    print(\"Output file loaded from bucket\")"
   ]
  },
  {
   "cell_type": "markdown",
   "metadata": {},
   "source": [
    "## Output\n",
    "\n",
    "- The processed output is of the form JSON file\n",
    "\n",
    "- Output JSON file will contain list of all enabled locations for warehouses and net cost of the solution."
   ]
  },
  {
   "cell_type": "code",
   "execution_count": 8,
   "metadata": {},
   "outputs": [
    {
     "name": "stdout",
     "output_type": "stream",
     "text": [
      "\n",
      "Enabled Locations->  [0, 2, 4, 5, 7, 8, 10, 12, 15, 19, 23, 26, 27, 28, 30, 31, 32, 36, 37, 38, 41, 44, 45]\n",
      "\n",
      "Net Cost->  208350.0\n"
     ]
    }
   ],
   "source": [
    "import json\n",
    "f = open(\"FILE_NAME\") \n",
    "data = json.load(f)\n",
    "f.close()\n",
    "\n",
    "print('\\nEnabled Locations-> ', data['enabled_locations'])\n",
    "print('\\nNet Cost-> ', data['cost'])"
   ]
  },
  {
   "cell_type": "markdown",
   "metadata": {},
   "source": [
    "## Endpoint\n",
    "Here is a sample endpoint for reference"
   ]
  },
  {
   "cell_type": "code",
   "execution_count": 9,
   "metadata": {},
   "outputs": [],
   "source": [
    "import json \n",
    "import uuid\n",
    "from sagemaker import ModelPackage\n",
    "import sagemaker as sage\n",
    "from sagemaker import get_execution_role\n",
    "from sagemaker import ModelPackage\n",
    "import boto3\n",
    "from IPython.display import Image\n",
    "from PIL import Image as ImageEdit\n",
    "\n",
    "role = get_execution_role()\n",
    "\n",
    "sagemaker_session = sage.Session()\n",
    "bucket=sagemaker_session.default_bucket()"
   ]
  },
  {
   "cell_type": "code",
   "execution_count": 10,
   "metadata": {},
   "outputs": [],
   "source": [
    "content_type='text/csv'\n",
    "model_name='COVIDLOCATION'\n",
    "real_time_inference_instance_type='ml.m5.xlarge'"
   ]
  },
  {
   "cell_type": "code",
   "execution_count": 11,
   "metadata": {},
   "outputs": [],
   "source": [
    "model_package_arn = 'Put your ARN here'"
   ]
  },
  {
   "cell_type": "code",
   "execution_count": 12,
   "metadata": {},
   "outputs": [],
   "source": [
    "from sagemaker import ModelPackage\n",
    "import sagemaker as sage\n",
    "from sagemaker import get_execution_role\n",
    "\n",
    "role = get_execution_role()\n",
    "sagemaker_session = sage.Session()"
   ]
  },
  {
   "cell_type": "code",
   "execution_count": 13,
   "metadata": {},
   "outputs": [
    {
     "name": "stderr",
     "output_type": "stream",
     "text": [
      "Parameter image will be renamed to image_uri in SageMaker Python SDK v2.\n"
     ]
    }
   ],
   "source": [
    "#Define predictor wrapper class\n",
    "def predict_wrapper(endpoint, session):\n",
    "    return sage.RealTimePredictor(endpoint, session,content_type=content_type)\n",
    "#create a deployable model from the model package.\n",
    "model = ModelPackage(role=role,\n",
    "                    model_package_arn=model_package_arn,\n",
    "                    sagemaker_session=sagemaker_session,\n",
    "                    predictor_cls=predict_wrapper)"
   ]
  },
  {
   "cell_type": "code",
   "execution_count": 14,
   "metadata": {},
   "outputs": [
    {
     "name": "stdout",
     "output_type": "stream",
     "text": [
      "-----------!"
     ]
    }
   ],
   "source": [
    "predictor = model.deploy(1, real_time_inference_instance_type, endpoint_name=model_name)"
   ]
  },
  {
   "cell_type": "code",
   "execution_count": 15,
   "metadata": {},
   "outputs": [],
   "source": [
    "input_file_name = 'input.csv'\n",
    "output_file_name = 'output.json'"
   ]
  },
  {
   "cell_type": "code",
   "execution_count": 16,
   "metadata": {},
   "outputs": [
    {
     "name": "stdout",
     "output_type": "stream",
     "text": [
      "{\r\n",
      "    \"ContentType\": \"application/json\",\r\n",
      "    \"InvokedProductionVariant\": \"AllTraffic\"\r\n",
      "}\r\n"
     ]
    }
   ],
   "source": [
    "!aws sagemaker-runtime invoke-endpoint --endpoint-name $model_name --body fileb://$input_file_name --content-type 'text/csv' --region us-east-2 $output_file_name"
   ]
  },
  {
   "cell_type": "code",
   "execution_count": 17,
   "metadata": {},
   "outputs": [
    {
     "name": "stdout",
     "output_type": "stream",
     "text": [
      "\n",
      "Enabled Locations->  [2, 3, 5, 7, 12, 13, 15, 16, 17, 20, 21, 22, 24, 25, 28, 29, 31, 32, 33, 35, 39, 40, 41, 42, 44, 47, 48, 49]\n",
      "\n",
      "Net Cost->  211741.0\n"
     ]
    }
   ],
   "source": [
    "f = open(output_file_name,) \n",
    "data = json.load(f)\n",
    "f.close() \n",
    "\n",
    "print('\\nEnabled Locations-> ', data['enabled_locations'])\n",
    "print('\\nNet Cost-> ', data['cost'])"
   ]
  },
  {
   "cell_type": "code",
   "execution_count": 18,
   "metadata": {},
   "outputs": [],
   "source": [
    "# Delete Endpoint\n",
    "predictor.delete_endpoint()"
   ]
  },
  {
   "cell_type": "code",
   "execution_count": null,
   "metadata": {},
   "outputs": [],
   "source": []
  }
 ],
 "metadata": {
  "kernelspec": {
   "display_name": "conda_python3",
   "language": "python",
   "name": "conda_python3"
  },
  "language_info": {
   "codemirror_mode": {
    "name": "ipython",
    "version": 3
   },
   "file_extension": ".py",
   "mimetype": "text/x-python",
   "name": "python",
   "nbconvert_exporter": "python",
   "pygments_lexer": "ipython3",
   "version": "3.6.10"
  }
 },
 "nbformat": 4,
 "nbformat_minor": 4
}
